{
 "cells": [
  {
   "cell_type": "code",
   "execution_count": 1,
   "metadata": {},
   "outputs": [],
   "source": [
    "import pandas as pd\n",
    "import numpy as np\n",
    "import sklearn\n",
    "import sklearn as sk\n",
    "from sklearn.model_selection import train_test_split\n",
    "import torch\n",
    "import math\n",
    "import sys\n",
    "import os\n",
    "from torch import nn, optim\n",
    "import torch.nn.functional as F\n",
    "from torch.autograd import Variable\n",
    "import torch.optim as optim\n",
    "\n",
    "import matplotlib.pyplot as plt\n",
    "%matplotlib inline"
   ]
  },
  {
   "cell_type": "code",
   "execution_count": 2,
   "metadata": {},
   "outputs": [],
   "source": [
    "device = torch.device(\"cuda:0\")"
   ]
  },
  {
   "cell_type": "code",
   "execution_count": 3,
   "metadata": {},
   "outputs": [],
   "source": [
    "inDF = pd.read_csv('../inputData/87_4j.csv')\n",
    "#inDF.loc[ inDF['higgs_pt'] <= 250000, 'higgs_pt'] = 0\n",
    "#inDF.loc[ inDF['higgs_pt'] > 250000, 'higgs_pt'] = 1\n",
    "pd_train, pd_test = train_test_split(inDF, test_size=0.3)"
   ]
  },
  {
   "cell_type": "code",
   "execution_count": 4,
   "metadata": {},
   "outputs": [],
   "source": [
    "y_test = pd_test['higgs_pt']\n",
    "y_train = pd_train['higgs_pt']\n",
    "pd_train = pd_train.drop(['higgs_pt'],axis=1)                                                                                                         \n",
    "pd_test = pd_test.drop(['higgs_pt'],axis=1) "
   ]
  },
  {
   "cell_type": "code",
   "execution_count": 5,
   "metadata": {},
   "outputs": [],
   "source": [
    "#Convert data to tensors\n",
    "x_train = torch.tensor(pd_train.values, dtype=torch.float32)\n",
    "x_test = torch.tensor(pd_test.values, dtype=torch.float32)\n",
    "y_train = torch.FloatTensor(y_train.values)\n",
    "y_test = torch.FloatTensor(y_test.values)"
   ]
  },
  {
   "cell_type": "code",
   "execution_count": 6,
   "metadata": {},
   "outputs": [],
   "source": [
    "X = x_train\n",
    "Y = y_train\n",
    "\n",
    "X_test = x_test\n",
    "Y_test = y_test"
   ]
  },
  {
   "cell_type": "code",
   "execution_count": 7,
   "metadata": {},
   "outputs": [],
   "source": [
    "def normalize(x):\n",
    "    x_normed = x / x.max(0, keepdim=True)[0]\n",
    "    return x_normed"
   ]
  },
  {
   "cell_type": "code",
   "execution_count": 8,
   "metadata": {},
   "outputs": [],
   "source": [
    "X = normalize(X)\n",
    "Y = normalize(Y)\n",
    "\n",
    "X_test = normalize(X_test)\n",
    "Y_test = normalize(Y_test)"
   ]
  },
  {
   "cell_type": "code",
   "execution_count": 9,
   "metadata": {},
   "outputs": [],
   "source": [
    "class OldNet(nn.Module):\n",
    "    \n",
    "    def __init__(self):\n",
    "        super().__init__()\n",
    "        self.fc1 = nn.Linear(50, 50)\n",
    "        self.relu1 = nn.ReLU()\n",
    "        self.dout = nn.Dropout(0.2)\n",
    "        self.fc2 = nn.Linear(50, 100)\n",
    "        self.prelu = nn.PReLU(1)\n",
    "        self.out = nn.Linear(100, 1)\n",
    "        self.out_act = nn.Sigmoid()\n",
    "        \n",
    "    def forward(self, input_):\n",
    "        a1 = self.fc1(input_)\n",
    "        h1 = self.relu1(a1)\n",
    "        dout = self.dout(h1)\n",
    "        a2 = self.fc2(dout)\n",
    "        h2 = self.prelu(a2)\n",
    "        a3 = self.out(h2)\n",
    "        y = self.out_act(a3)\n",
    "        return y\n",
    "    \n",
    "oldNet = OldNet()\n",
    "#opt = optim.Adam(net.parameters(), lr=0.001, betas=(0.9, 0.999))\n",
    "criterion = nn.BCELoss()"
   ]
  },
  {
   "cell_type": "code",
   "execution_count": 10,
   "metadata": {},
   "outputs": [],
   "source": [
    "class Net(nn.Module):\n",
    "    \n",
    "    def __init__(self, D_in, nodes, layers):\n",
    "        self.layers = layers\n",
    "        super().__init__()\n",
    "        self.fc1 = nn.Linear(D_in, nodes)\n",
    "        self.relu1 = nn.ReLU()\n",
    "        self.dout = nn.Dropout(0.2)\n",
    "        #self.fc2 = nn.Linear(50, 100)\n",
    "        self.fc = nn.Linear(nodes, nodes)\n",
    "        self.prelu = nn.PReLU(1)\n",
    "        self.out = nn.Linear(nodes, 1)\n",
    "        self.out_act = nn.Sigmoid()\n",
    "        \n",
    "    def forward(self, input_):\n",
    "        h1 = self.dout(self.relu1(self.fc1(input_)))\n",
    "        for i in range(self.layers):\n",
    "            h1 = self.dout(self.relu1(self.fc(h1)))\n",
    "        a1 = self.out(h1)\n",
    "        y = self.out_act(a1)\n",
    "        return y"
   ]
  },
  {
   "cell_type": "code",
   "execution_count": 11,
   "metadata": {},
   "outputs": [],
   "source": [
    "\n",
    "def train_epoch(model, opt, criterion, batch_size=10000):\n",
    "    model.train()\n",
    "    losses = []\n",
    "\n",
    "    opt.zero_grad()\n",
    "    # (1) Forward\n",
    "    y_hat = net(X)\n",
    "    # (2) Compute diff\n",
    "    loss = criterion(y_hat[:,0], Y)\n",
    "    # (3) Compute gradients\n",
    "    loss.backward()\n",
    "    # (4) update weights\n",
    "    opt.step()        \n",
    "    losses.append(loss.data.numpy())\n",
    "    \n",
    "    return loss, y_hat[:,0]"
   ]
  },
  {
   "cell_type": "code",
   "execution_count": 12,
   "metadata": {},
   "outputs": [],
   "source": [
    "class param:\n",
    "    def __init__(self, epochs, layers, nodes, auc = 0, loss = 1):\n",
    "        self.epochs = epochs\n",
    "        self.layers = layers\n",
    "        self.nodes = nodes\n",
    "        self.auc = auc\n",
    "        self.train_loss = None\n",
    "        self.test_loss = None\n",
    "        self.y_pred = None\n",
    "        self.y_pred_test = None\n",
    "        self.net = None\n",
    "    "
   ]
  },
  {
   "cell_type": "code",
   "execution_count": 34,
   "metadata": {},
   "outputs": [],
   "source": [
    "num_epochs = [4000]\n",
    "nLayers = [4, 6, 8, 12]\n",
    "nNodes = [75, 150, 250]\n",
    "\n",
    "param_grid = []\n",
    "for ep in num_epochs:\n",
    "    for la in nLayers:\n",
    "        for node in nNodes:\n",
    "            param_grid.append(param(ep, la, node))"
   ]
  },
  {
   "cell_type": "code",
   "execution_count": 54,
   "metadata": {
    "scrolled": true
   },
   "outputs": [],
   "source": [
    "def scale_pt(y_predicted):\n",
    "    y_pred_scaled = (y_predicted-y_predicted.min())/(y_predicted.max()-y_predicted.min())\n",
    "    return y_pred_scaled"
   ]
  },
  {
   "cell_type": "code",
   "execution_count": 35,
   "metadata": {},
   "outputs": [
    {
     "name": "stdout",
     "output_type": "stream",
     "text": [
      "[Epoch]: 0, [Train Loss]: 0.3856, [Test Loss]: 0.3656\n",
      "[Epoch]: 100, [Train Loss]: 0.3202, [Test Loss]: 0.2980\n",
      "[Epoch]: 200, [Train Loss]: 0.0541, [Test Loss]: 0.0673\n",
      "[Epoch]: 300, [Train Loss]: 0.0528, [Test Loss]: 0.0654\n",
      "[Epoch]: 400, [Train Loss]: 0.0520, [Test Loss]: 0.0644\n",
      "[Epoch]: 500, [Train Loss]: 0.0512, [Test Loss]: 0.0638\n",
      "[Epoch]: 600, [Train Loss]: 0.0507, [Test Loss]: 0.0628\n",
      "[Epoch]: 700, [Train Loss]: 0.0503, [Test Loss]: 0.0624\n",
      "[Epoch]: 800, [Train Loss]: 0.0495, [Test Loss]: 0.0613\n",
      "[Epoch]: 900, [Train Loss]: 0.0490, [Test Loss]: 0.0606\n",
      "[Epoch]: 1000, [Train Loss]: 0.0484, [Test Loss]: 0.0599\n",
      "[Epoch]: 1100, [Train Loss]: 0.0480, [Test Loss]: 0.0595\n",
      "[Epoch]: 1200, [Train Loss]: 0.0473, [Test Loss]: 0.0586\n",
      "[Epoch]: 1300, [Train Loss]: 0.0470, [Test Loss]: 0.0582\n",
      "[Epoch]: 1400, [Train Loss]: 0.0465, [Test Loss]: 0.0578\n",
      "[Epoch]: 1500, [Train Loss]: 0.0460, [Test Loss]: 0.0572\n",
      "[Epoch]: 1600, [Train Loss]: 0.0455, [Test Loss]: 0.0569\n",
      "[Epoch]: 1700, [Train Loss]: 0.0453, [Test Loss]: 0.0561\n",
      "[Epoch]: 1800, [Train Loss]: 0.0449, [Test Loss]: 0.0556\n",
      "[Epoch]: 1900, [Train Loss]: 0.0444, [Test Loss]: 0.0549\n",
      "[Epoch]: 2000, [Train Loss]: 0.0439, [Test Loss]: 0.0542\n",
      "[Epoch]: 2100, [Train Loss]: 0.0436, [Test Loss]: 0.0537\n",
      "[Epoch]: 2200, [Train Loss]: 0.0430, [Test Loss]: 0.0530\n",
      "[Epoch]: 2300, [Train Loss]: 0.0427, [Test Loss]: 0.0522\n",
      "[Epoch]: 2400, [Train Loss]: 0.0423, [Test Loss]: 0.0519\n",
      "[Epoch]: 2500, [Train Loss]: 0.0419, [Test Loss]: 0.0515\n",
      "[Epoch]: 2600, [Train Loss]: 0.0418, [Test Loss]: 0.0514\n",
      "[Epoch]: 2700, [Train Loss]: 0.0417, [Test Loss]: 0.0511\n",
      "[Epoch]: 2800, [Train Loss]: 0.0415, [Test Loss]: 0.0510\n",
      "[Epoch]: 2900, [Train Loss]: 0.0413, [Test Loss]: 0.0508\n",
      "[Epoch]: 3000, [Train Loss]: 0.0411, [Test Loss]: 0.0508\n",
      "[Epoch]: 3100, [Train Loss]: 0.0411, [Test Loss]: 0.0506\n",
      "[Epoch]: 3200, [Train Loss]: 0.0411, [Test Loss]: 0.0505\n",
      "[Epoch]: 3300, [Train Loss]: 0.0408, [Test Loss]: 0.0504\n",
      "[Epoch]: 3400, [Train Loss]: 0.0408, [Test Loss]: 0.0502\n",
      "[Epoch]: 3500, [Train Loss]: 0.0406, [Test Loss]: 0.0503\n",
      "Nodes: 75\n",
      "Layers: 4\n",
      "Train Loss: 0.040619317\n",
      "Test Loss: 0.050281595\n",
      "\n",
      "[Epoch]: 0, [Train Loss]: 0.4254, [Test Loss]: 0.4051\n",
      "[Epoch]: 100, [Train Loss]: 0.0522, [Test Loss]: 0.0677\n",
      "[Epoch]: 200, [Train Loss]: 0.0508, [Test Loss]: 0.0629\n",
      "[Epoch]: 300, [Train Loss]: 0.0501, [Test Loss]: 0.0623\n",
      "[Epoch]: 400, [Train Loss]: 0.0495, [Test Loss]: 0.0617\n",
      "[Epoch]: 500, [Train Loss]: 0.0490, [Test Loss]: 0.0608\n",
      "[Epoch]: 600, [Train Loss]: 0.0480, [Test Loss]: 0.0599\n",
      "[Epoch]: 700, [Train Loss]: 0.0475, [Test Loss]: 0.0592\n",
      "[Epoch]: 800, [Train Loss]: 0.0466, [Test Loss]: 0.0581\n",
      "[Epoch]: 900, [Train Loss]: 0.0460, [Test Loss]: 0.0571\n",
      "[Epoch]: 1000, [Train Loss]: 0.0452, [Test Loss]: 0.0562\n",
      "[Epoch]: 1100, [Train Loss]: 0.0445, [Test Loss]: 0.0550\n",
      "[Epoch]: 1200, [Train Loss]: 0.0436, [Test Loss]: 0.0541\n",
      "[Epoch]: 1300, [Train Loss]: 0.0430, [Test Loss]: 0.0530\n",
      "[Epoch]: 1400, [Train Loss]: 0.0423, [Test Loss]: 0.0521\n",
      "[Epoch]: 1500, [Train Loss]: 0.0419, [Test Loss]: 0.0517\n",
      "[Epoch]: 1600, [Train Loss]: 0.0415, [Test Loss]: 0.0510\n",
      "[Epoch]: 1700, [Train Loss]: 0.0411, [Test Loss]: 0.0506\n",
      "[Epoch]: 1800, [Train Loss]: 0.0410, [Test Loss]: 0.0505\n",
      "[Epoch]: 1900, [Train Loss]: 0.0407, [Test Loss]: 0.0502\n",
      "[Epoch]: 2000, [Train Loss]: 0.0406, [Test Loss]: 0.0501\n",
      "[Epoch]: 2100, [Train Loss]: 0.0405, [Test Loss]: 0.0499\n",
      "[Epoch]: 2200, [Train Loss]: 0.0403, [Test Loss]: 0.0497\n",
      "[Epoch]: 2300, [Train Loss]: 0.0404, [Test Loss]: 0.0496\n",
      "[Epoch]: 2400, [Train Loss]: 0.0401, [Test Loss]: 0.0494\n",
      "[Epoch]: 2500, [Train Loss]: 0.0400, [Test Loss]: 0.0494\n",
      "[Epoch]: 2600, [Train Loss]: 0.0399, [Test Loss]: 0.0492\n",
      "[Epoch]: 2700, [Train Loss]: 0.0398, [Test Loss]: 0.0490\n",
      "[Epoch]: 2800, [Train Loss]: 0.0398, [Test Loss]: 0.0489\n",
      "[Epoch]: 2900, [Train Loss]: 0.0396, [Test Loss]: 0.0489\n",
      "[Epoch]: 3000, [Train Loss]: 0.0395, [Test Loss]: 0.0488\n",
      "[Epoch]: 3100, [Train Loss]: 0.0395, [Test Loss]: 0.0489\n",
      "Nodes: 150\n",
      "Layers: 4\n",
      "Train Loss: 0.039525423\n",
      "Test Loss: 0.048915863\n",
      "\n",
      "[Epoch]: 0, [Train Loss]: 0.4330, [Test Loss]: 0.4122\n",
      "[Epoch]: 100, [Train Loss]: 0.0506, [Test Loss]: 0.0637\n",
      "[Epoch]: 200, [Train Loss]: 0.0486, [Test Loss]: 0.0607\n",
      "[Epoch]: 300, [Train Loss]: 0.0478, [Test Loss]: 0.0598\n",
      "[Epoch]: 400, [Train Loss]: 0.0470, [Test Loss]: 0.0589\n",
      "[Epoch]: 500, [Train Loss]: 0.0462, [Test Loss]: 0.0578\n",
      "[Epoch]: 600, [Train Loss]: 0.0453, [Test Loss]: 0.0565\n",
      "[Epoch]: 700, [Train Loss]: 0.0440, [Test Loss]: 0.0548\n",
      "[Epoch]: 800, [Train Loss]: 0.0428, [Test Loss]: 0.0532\n",
      "[Epoch]: 900, [Train Loss]: 0.0419, [Test Loss]: 0.0517\n",
      "[Epoch]: 1000, [Train Loss]: 0.0413, [Test Loss]: 0.0511\n",
      "[Epoch]: 1100, [Train Loss]: 0.0408, [Test Loss]: 0.0504\n",
      "[Epoch]: 1200, [Train Loss]: 0.0405, [Test Loss]: 0.0500\n",
      "[Epoch]: 1300, [Train Loss]: 0.0403, [Test Loss]: 0.0496\n",
      "[Epoch]: 1400, [Train Loss]: 0.0400, [Test Loss]: 0.0494\n",
      "[Epoch]: 1500, [Train Loss]: 0.0397, [Test Loss]: 0.0492\n",
      "[Epoch]: 1600, [Train Loss]: 0.0395, [Test Loss]: 0.0488\n",
      "[Epoch]: 1700, [Train Loss]: 0.0395, [Test Loss]: 0.0488\n",
      "Nodes: 250\n",
      "Layers: 4\n",
      "Train Loss: 0.03947951\n",
      "Test Loss: 0.048845187\n",
      "\n",
      "[Epoch]: 0, [Train Loss]: 0.4221, [Test Loss]: 0.4021\n",
      "[Epoch]: 100, [Train Loss]: 0.3865, [Test Loss]: 0.3662\n",
      "[Epoch]: 200, [Train Loss]: 0.0599, [Test Loss]: 0.0757\n",
      "[Epoch]: 300, [Train Loss]: 0.0558, [Test Loss]: 0.0684\n",
      "[Epoch]: 400, [Train Loss]: 0.0546, [Test Loss]: 0.0672\n",
      "[Epoch]: 500, [Train Loss]: 0.0534, [Test Loss]: 0.0658\n",
      "[Epoch]: 600, [Train Loss]: 0.0525, [Test Loss]: 0.0648\n",
      "[Epoch]: 700, [Train Loss]: 0.0512, [Test Loss]: 0.0633\n",
      "[Epoch]: 800, [Train Loss]: 0.0502, [Test Loss]: 0.0624\n",
      "[Epoch]: 900, [Train Loss]: 0.0494, [Test Loss]: 0.0614\n",
      "[Epoch]: 1000, [Train Loss]: 0.0487, [Test Loss]: 0.0605\n",
      "[Epoch]: 1100, [Train Loss]: 0.0479, [Test Loss]: 0.0597\n",
      "[Epoch]: 1200, [Train Loss]: 0.0474, [Test Loss]: 0.0590\n",
      "[Epoch]: 1300, [Train Loss]: 0.0470, [Test Loss]: 0.0586\n",
      "[Epoch]: 1400, [Train Loss]: 0.0465, [Test Loss]: 0.0581\n",
      "[Epoch]: 1500, [Train Loss]: 0.0462, [Test Loss]: 0.0574\n",
      "[Epoch]: 1600, [Train Loss]: 0.0459, [Test Loss]: 0.0571\n",
      "[Epoch]: 1700, [Train Loss]: 0.0453, [Test Loss]: 0.0560\n",
      "[Epoch]: 1800, [Train Loss]: 0.0447, [Test Loss]: 0.0553\n",
      "[Epoch]: 1900, [Train Loss]: 0.0441, [Test Loss]: 0.0545\n",
      "[Epoch]: 2000, [Train Loss]: 0.0435, [Test Loss]: 0.0533\n",
      "[Epoch]: 2100, [Train Loss]: 0.0430, [Test Loss]: 0.0530\n",
      "[Epoch]: 2200, [Train Loss]: 0.0427, [Test Loss]: 0.0524\n",
      "[Epoch]: 2300, [Train Loss]: 0.0423, [Test Loss]: 0.0520\n",
      "[Epoch]: 2400, [Train Loss]: 0.0422, [Test Loss]: 0.0518\n",
      "[Epoch]: 2500, [Train Loss]: 0.0420, [Test Loss]: 0.0517\n",
      "[Epoch]: 2600, [Train Loss]: 0.0420, [Test Loss]: 0.0514\n",
      "[Epoch]: 2700, [Train Loss]: 0.0418, [Test Loss]: 0.0514\n",
      "[Epoch]: 2800, [Train Loss]: 0.0417, [Test Loss]: 0.0513\n",
      "[Epoch]: 2900, [Train Loss]: 0.0416, [Test Loss]: 0.0511\n",
      "[Epoch]: 3000, [Train Loss]: 0.0415, [Test Loss]: 0.0509\n",
      "[Epoch]: 3100, [Train Loss]: 0.0412, [Test Loss]: 0.0509\n",
      "Nodes: 75\n",
      "Layers: 6\n",
      "Train Loss: 0.041245196\n",
      "Test Loss: 0.05093752\n",
      "\n",
      "[Epoch]: 0, [Train Loss]: 0.4067, [Test Loss]: 0.3864\n",
      "[Epoch]: 100, [Train Loss]: 0.0630, [Test Loss]: 0.0809\n",
      "[Epoch]: 200, [Train Loss]: 0.0509, [Test Loss]: 0.0631\n",
      "[Epoch]: 300, [Train Loss]: 0.0501, [Test Loss]: 0.0619\n",
      "[Epoch]: 400, [Train Loss]: 0.0494, [Test Loss]: 0.0612\n",
      "[Epoch]: 500, [Train Loss]: 0.0486, [Test Loss]: 0.0602\n",
      "[Epoch]: 600, [Train Loss]: 0.0474, [Test Loss]: 0.0590\n",
      "[Epoch]: 700, [Train Loss]: 0.0463, [Test Loss]: 0.0578\n",
      "[Epoch]: 800, [Train Loss]: 0.0453, [Test Loss]: 0.0564\n",
      "[Epoch]: 900, [Train Loss]: 0.0444, [Test Loss]: 0.0552\n",
      "[Epoch]: 1000, [Train Loss]: 0.0433, [Test Loss]: 0.0537\n",
      "[Epoch]: 1100, [Train Loss]: 0.0425, [Test Loss]: 0.0526\n",
      "[Epoch]: 1200, [Train Loss]: 0.0419, [Test Loss]: 0.0517\n",
      "[Epoch]: 1300, [Train Loss]: 0.0415, [Test Loss]: 0.0514\n",
      "[Epoch]: 1400, [Train Loss]: 0.0412, [Test Loss]: 0.0510\n",
      "[Epoch]: 1500, [Train Loss]: 0.0409, [Test Loss]: 0.0503\n",
      "[Epoch]: 1600, [Train Loss]: 0.0406, [Test Loss]: 0.0501\n",
      "[Epoch]: 1700, [Train Loss]: 0.0405, [Test Loss]: 0.0499\n",
      "[Epoch]: 1800, [Train Loss]: 0.0403, [Test Loss]: 0.0500\n",
      "Nodes: 150\n",
      "Layers: 6\n",
      "Train Loss: 0.040313073\n",
      "Test Loss: 0.049986523\n",
      "\n",
      "[Epoch]: 0, [Train Loss]: 0.4049, [Test Loss]: 0.3845\n",
      "[Epoch]: 100, [Train Loss]: 0.0524, [Test Loss]: 0.0606\n"
     ]
    },
    {
     "name": "stdout",
     "output_type": "stream",
     "text": [
      "[Epoch]: 200, [Train Loss]: 0.0487, [Test Loss]: 0.0607\n",
      "[Epoch]: 300, [Train Loss]: 0.0478, [Test Loss]: 0.0597\n",
      "[Epoch]: 400, [Train Loss]: 0.0469, [Test Loss]: 0.0588\n",
      "[Epoch]: 500, [Train Loss]: 0.0460, [Test Loss]: 0.0578\n",
      "[Epoch]: 600, [Train Loss]: 0.0451, [Test Loss]: 0.0565\n",
      "[Epoch]: 700, [Train Loss]: 0.0437, [Test Loss]: 0.0544\n",
      "[Epoch]: 800, [Train Loss]: 0.0425, [Test Loss]: 0.0527\n",
      "[Epoch]: 900, [Train Loss]: 0.0418, [Test Loss]: 0.0515\n",
      "[Epoch]: 1000, [Train Loss]: 0.0413, [Test Loss]: 0.0509\n",
      "[Epoch]: 1100, [Train Loss]: 0.0408, [Test Loss]: 0.0504\n",
      "[Epoch]: 1200, [Train Loss]: 0.0405, [Test Loss]: 0.0499\n",
      "[Epoch]: 1300, [Train Loss]: 0.0402, [Test Loss]: 0.0496\n",
      "[Epoch]: 1400, [Train Loss]: 0.0400, [Test Loss]: 0.0494\n",
      "[Epoch]: 1500, [Train Loss]: 0.0400, [Test Loss]: 0.0494\n",
      "[Epoch]: 1600, [Train Loss]: 0.0397, [Test Loss]: 0.0490\n",
      "[Epoch]: 1700, [Train Loss]: 0.0396, [Test Loss]: 0.0490\n",
      "Nodes: 250\n",
      "Layers: 6\n",
      "Train Loss: 0.039600104\n",
      "Test Loss: 0.049023323\n",
      "\n",
      "[Epoch]: 0, [Train Loss]: 0.4124, [Test Loss]: 0.3923\n",
      "[Epoch]: 100, [Train Loss]: 0.3673, [Test Loss]: 0.3467\n",
      "[Epoch]: 200, [Train Loss]: 0.0565, [Test Loss]: 0.0677\n",
      "[Epoch]: 300, [Train Loss]: 0.0550, [Test Loss]: 0.0677\n",
      "[Epoch]: 400, [Train Loss]: 0.0542, [Test Loss]: 0.0666\n",
      "[Epoch]: 500, [Train Loss]: 0.0532, [Test Loss]: 0.0656\n",
      "[Epoch]: 600, [Train Loss]: 0.0524, [Test Loss]: 0.0647\n",
      "[Epoch]: 700, [Train Loss]: 0.0512, [Test Loss]: 0.0630\n",
      "[Epoch]: 800, [Train Loss]: 0.0502, [Test Loss]: 0.0621\n",
      "[Epoch]: 900, [Train Loss]: 0.0496, [Test Loss]: 0.0614\n",
      "[Epoch]: 1000, [Train Loss]: 0.0489, [Test Loss]: 0.0608\n",
      "[Epoch]: 1100, [Train Loss]: 0.0483, [Test Loss]: 0.0601\n",
      "[Epoch]: 1200, [Train Loss]: 0.0479, [Test Loss]: 0.0595\n",
      "[Epoch]: 1300, [Train Loss]: 0.0475, [Test Loss]: 0.0591\n",
      "[Epoch]: 1400, [Train Loss]: 0.0471, [Test Loss]: 0.0587\n",
      "[Epoch]: 1500, [Train Loss]: 0.0464, [Test Loss]: 0.0576\n",
      "[Epoch]: 1600, [Train Loss]: 0.0456, [Test Loss]: 0.0563\n",
      "[Epoch]: 1700, [Train Loss]: 0.0448, [Test Loss]: 0.0552\n",
      "[Epoch]: 1800, [Train Loss]: 0.0441, [Test Loss]: 0.0539\n",
      "[Epoch]: 1900, [Train Loss]: 0.0435, [Test Loss]: 0.0535\n",
      "[Epoch]: 2000, [Train Loss]: 0.0433, [Test Loss]: 0.0530\n",
      "[Epoch]: 2100, [Train Loss]: 0.0429, [Test Loss]: 0.0528\n",
      "[Epoch]: 2200, [Train Loss]: 0.0427, [Test Loss]: 0.0525\n",
      "[Epoch]: 2300, [Train Loss]: 0.0425, [Test Loss]: 0.0519\n",
      "[Epoch]: 2400, [Train Loss]: 0.0424, [Test Loss]: 0.0518\n",
      "[Epoch]: 2500, [Train Loss]: 0.0421, [Test Loss]: 0.0517\n",
      "[Epoch]: 2600, [Train Loss]: 0.0419, [Test Loss]: 0.0514\n",
      "[Epoch]: 2700, [Train Loss]: 0.0418, [Test Loss]: 0.0513\n",
      "[Epoch]: 2800, [Train Loss]: 0.0416, [Test Loss]: 0.0512\n",
      "[Epoch]: 2900, [Train Loss]: 0.0416, [Test Loss]: 0.0509\n",
      "[Epoch]: 3000, [Train Loss]: 0.0414, [Test Loss]: 0.0509\n",
      "[Epoch]: 3100, [Train Loss]: 0.0414, [Test Loss]: 0.0507\n",
      "[Epoch]: 3200, [Train Loss]: 0.0412, [Test Loss]: 0.0507\n",
      "[Epoch]: 3300, [Train Loss]: 0.0412, [Test Loss]: 0.0505\n",
      "[Epoch]: 3400, [Train Loss]: 0.0411, [Test Loss]: 0.0506\n",
      "Nodes: 75\n",
      "Layers: 8\n",
      "Train Loss: 0.04110439\n",
      "Test Loss: 0.05059234\n",
      "\n",
      "[Epoch]: 0, [Train Loss]: 0.4228, [Test Loss]: 0.4025\n",
      "[Epoch]: 100, [Train Loss]: 0.0702, [Test Loss]: 0.0887\n",
      "[Epoch]: 200, [Train Loss]: 0.0502, [Test Loss]: 0.0621\n",
      "[Epoch]: 300, [Train Loss]: 0.0494, [Test Loss]: 0.0614\n",
      "[Epoch]: 400, [Train Loss]: 0.0487, [Test Loss]: 0.0606\n",
      "[Epoch]: 500, [Train Loss]: 0.0479, [Test Loss]: 0.0599\n",
      "[Epoch]: 600, [Train Loss]: 0.0472, [Test Loss]: 0.0587\n",
      "[Epoch]: 700, [Train Loss]: 0.0465, [Test Loss]: 0.0579\n",
      "[Epoch]: 800, [Train Loss]: 0.0457, [Test Loss]: 0.0568\n",
      "[Epoch]: 900, [Train Loss]: 0.0445, [Test Loss]: 0.0553\n",
      "[Epoch]: 1000, [Train Loss]: 0.0436, [Test Loss]: 0.0538\n",
      "[Epoch]: 1100, [Train Loss]: 0.0430, [Test Loss]: 0.0528\n",
      "[Epoch]: 1200, [Train Loss]: 0.0424, [Test Loss]: 0.0521\n",
      "[Epoch]: 1300, [Train Loss]: 0.0419, [Test Loss]: 0.0517\n",
      "[Epoch]: 1400, [Train Loss]: 0.0417, [Test Loss]: 0.0511\n",
      "[Epoch]: 1500, [Train Loss]: 0.0413, [Test Loss]: 0.0510\n",
      "[Epoch]: 1600, [Train Loss]: 0.0411, [Test Loss]: 0.0505\n",
      "[Epoch]: 1700, [Train Loss]: 0.0408, [Test Loss]: 0.0503\n",
      "[Epoch]: 1800, [Train Loss]: 0.0407, [Test Loss]: 0.0501\n",
      "[Epoch]: 1900, [Train Loss]: 0.0405, [Test Loss]: 0.0500\n",
      "[Epoch]: 2000, [Train Loss]: 0.0404, [Test Loss]: 0.0496\n",
      "[Epoch]: 2100, [Train Loss]: 0.0403, [Test Loss]: 0.0496\n",
      "[Epoch]: 2200, [Train Loss]: 0.0401, [Test Loss]: 0.0495\n",
      "[Epoch]: 2300, [Train Loss]: 0.0399, [Test Loss]: 0.0496\n",
      "Nodes: 150\n",
      "Layers: 8\n",
      "Train Loss: 0.039919816\n",
      "Test Loss: 0.049554512\n",
      "\n",
      "[Epoch]: 0, [Train Loss]: 0.4101, [Test Loss]: 0.3896\n",
      "[Epoch]: 100, [Train Loss]: 0.0532, [Test Loss]: 0.0596\n",
      "[Epoch]: 200, [Train Loss]: 0.0482, [Test Loss]: 0.0603\n",
      "[Epoch]: 300, [Train Loss]: 0.0477, [Test Loss]: 0.0596\n",
      "[Epoch]: 400, [Train Loss]: 0.0467, [Test Loss]: 0.0585\n",
      "[Epoch]: 500, [Train Loss]: 0.0454, [Test Loss]: 0.0568\n",
      "[Epoch]: 600, [Train Loss]: 0.0441, [Test Loss]: 0.0547\n",
      "[Epoch]: 700, [Train Loss]: 0.0427, [Test Loss]: 0.0529\n",
      "[Epoch]: 800, [Train Loss]: 0.0418, [Test Loss]: 0.0516\n",
      "[Epoch]: 900, [Train Loss]: 0.0412, [Test Loss]: 0.0509\n",
      "[Epoch]: 1000, [Train Loss]: 0.0408, [Test Loss]: 0.0505\n",
      "[Epoch]: 1100, [Train Loss]: 0.0406, [Test Loss]: 0.0499\n",
      "[Epoch]: 1200, [Train Loss]: 0.0403, [Test Loss]: 0.0498\n",
      "[Epoch]: 1300, [Train Loss]: 0.0400, [Test Loss]: 0.0494\n",
      "[Epoch]: 1400, [Train Loss]: 0.0398, [Test Loss]: 0.0492\n",
      "[Epoch]: 1500, [Train Loss]: 0.0396, [Test Loss]: 0.0490\n",
      "[Epoch]: 1600, [Train Loss]: 0.0395, [Test Loss]: 0.0491\n",
      "Nodes: 250\n",
      "Layers: 8\n",
      "Train Loss: 0.039483443\n",
      "Test Loss: 0.049130797\n",
      "\n",
      "[Epoch]: 0, [Train Loss]: 0.4074, [Test Loss]: 0.3874\n",
      "[Epoch]: 100, [Train Loss]: 0.3476, [Test Loss]: 0.3252\n",
      "[Epoch]: 200, [Train Loss]: 0.0576, [Test Loss]: 0.0698\n",
      "[Epoch]: 300, [Train Loss]: 0.0564, [Test Loss]: 0.0686\n",
      "[Epoch]: 400, [Train Loss]: 0.0554, [Test Loss]: 0.0675\n",
      "[Epoch]: 500, [Train Loss]: 0.0541, [Test Loss]: 0.0660\n",
      "[Epoch]: 600, [Train Loss]: 0.0529, [Test Loss]: 0.0647\n",
      "[Epoch]: 700, [Train Loss]: 0.0519, [Test Loss]: 0.0633\n",
      "[Epoch]: 800, [Train Loss]: 0.0508, [Test Loss]: 0.0625\n",
      "[Epoch]: 900, [Train Loss]: 0.0499, [Test Loss]: 0.0614\n",
      "[Epoch]: 1000, [Train Loss]: 0.0493, [Test Loss]: 0.0608\n",
      "[Epoch]: 1100, [Train Loss]: 0.0487, [Test Loss]: 0.0604\n",
      "[Epoch]: 1200, [Train Loss]: 0.0483, [Test Loss]: 0.0599\n",
      "[Epoch]: 1300, [Train Loss]: 0.0479, [Test Loss]: 0.0595\n",
      "[Epoch]: 1400, [Train Loss]: 0.0476, [Test Loss]: 0.0594\n",
      "[Epoch]: 1500, [Train Loss]: 0.0475, [Test Loss]: 0.0589\n",
      "[Epoch]: 1600, [Train Loss]: 0.0469, [Test Loss]: 0.0585\n",
      "[Epoch]: 1700, [Train Loss]: 0.0468, [Test Loss]: 0.0581\n",
      "[Epoch]: 1800, [Train Loss]: 0.0466, [Test Loss]: 0.0580\n",
      "[Epoch]: 1900, [Train Loss]: 0.0463, [Test Loss]: 0.0575\n",
      "[Epoch]: 2000, [Train Loss]: 0.0458, [Test Loss]: 0.0566\n",
      "[Epoch]: 2100, [Train Loss]: 0.0454, [Test Loss]: 0.0561\n",
      "[Epoch]: 2200, [Train Loss]: 0.0450, [Test Loss]: 0.0555\n",
      "[Epoch]: 2300, [Train Loss]: 0.0444, [Test Loss]: 0.0548\n",
      "[Epoch]: 2400, [Train Loss]: 0.0440, [Test Loss]: 0.0541\n",
      "[Epoch]: 2500, [Train Loss]: 0.0437, [Test Loss]: 0.0535\n",
      "[Epoch]: 2600, [Train Loss]: 0.0434, [Test Loss]: 0.0532\n",
      "[Epoch]: 2700, [Train Loss]: 0.0429, [Test Loss]: 0.0528\n",
      "[Epoch]: 2800, [Train Loss]: 0.0426, [Test Loss]: 0.0523\n",
      "[Epoch]: 2900, [Train Loss]: 0.0426, [Test Loss]: 0.0521\n",
      "[Epoch]: 3000, [Train Loss]: 0.0425, [Test Loss]: 0.0522\n",
      "Nodes: 75\n",
      "Layers: 12\n",
      "Train Loss: 0.042526536\n",
      "Test Loss: 0.052185375\n",
      "\n",
      "[Epoch]: 0, [Train Loss]: 0.4011, [Test Loss]: 0.3810\n",
      "[Epoch]: 100, [Train Loss]: 0.0732, [Test Loss]: 0.0952\n",
      "[Epoch]: 200, [Train Loss]: 0.0519, [Test Loss]: 0.0642\n",
      "[Epoch]: 300, [Train Loss]: 0.0511, [Test Loss]: 0.0628\n",
      "[Epoch]: 400, [Train Loss]: 0.0501, [Test Loss]: 0.0619\n",
      "[Epoch]: 500, [Train Loss]: 0.0486, [Test Loss]: 0.0604\n",
      "[Epoch]: 600, [Train Loss]: 0.0472, [Test Loss]: 0.0593\n",
      "[Epoch]: 700, [Train Loss]: 0.0463, [Test Loss]: 0.0580\n",
      "[Epoch]: 800, [Train Loss]: 0.0453, [Test Loss]: 0.0568\n",
      "[Epoch]: 900, [Train Loss]: 0.0441, [Test Loss]: 0.0546\n",
      "[Epoch]: 1000, [Train Loss]: 0.0429, [Test Loss]: 0.0533\n",
      "[Epoch]: 1100, [Train Loss]: 0.0425, [Test Loss]: 0.0524\n",
      "[Epoch]: 1200, [Train Loss]: 0.0419, [Test Loss]: 0.0520\n",
      "[Epoch]: 1300, [Train Loss]: 0.0416, [Test Loss]: 0.0514\n",
      "[Epoch]: 1400, [Train Loss]: 0.0413, [Test Loss]: 0.0512\n",
      "[Epoch]: 1500, [Train Loss]: 0.0410, [Test Loss]: 0.0508\n"
     ]
    },
    {
     "name": "stdout",
     "output_type": "stream",
     "text": [
      "[Epoch]: 1600, [Train Loss]: 0.0408, [Test Loss]: 0.0504\n",
      "[Epoch]: 1700, [Train Loss]: 0.0408, [Test Loss]: 0.0502\n",
      "[Epoch]: 1800, [Train Loss]: 0.0406, [Test Loss]: 0.0501\n",
      "[Epoch]: 1900, [Train Loss]: 0.0404, [Test Loss]: 0.0499\n",
      "[Epoch]: 2000, [Train Loss]: 0.0404, [Test Loss]: 0.0498\n",
      "[Epoch]: 2100, [Train Loss]: 0.0402, [Test Loss]: 0.0496\n",
      "[Epoch]: 2200, [Train Loss]: 0.0401, [Test Loss]: 0.0497\n",
      "Nodes: 150\n",
      "Layers: 12\n",
      "Train Loss: 0.040070564\n",
      "Test Loss: 0.049735524\n",
      "\n",
      "[Epoch]: 0, [Train Loss]: 0.4224, [Test Loss]: 0.4018\n",
      "[Epoch]: 100, [Train Loss]: 0.0847, [Test Loss]: 0.1049\n",
      "[Epoch]: 200, [Train Loss]: 0.0496, [Test Loss]: 0.0611\n",
      "[Epoch]: 300, [Train Loss]: 0.0485, [Test Loss]: 0.0605\n",
      "[Epoch]: 400, [Train Loss]: 0.0474, [Test Loss]: 0.0593\n",
      "[Epoch]: 500, [Train Loss]: 0.0460, [Test Loss]: 0.0579\n",
      "[Epoch]: 600, [Train Loss]: 0.0443, [Test Loss]: 0.0552\n",
      "[Epoch]: 700, [Train Loss]: 0.0426, [Test Loss]: 0.0530\n",
      "[Epoch]: 800, [Train Loss]: 0.0418, [Test Loss]: 0.0519\n",
      "[Epoch]: 900, [Train Loss]: 0.0413, [Test Loss]: 0.0510\n",
      "[Epoch]: 1000, [Train Loss]: 0.0409, [Test Loss]: 0.0504\n",
      "[Epoch]: 1100, [Train Loss]: 0.0406, [Test Loss]: 0.0501\n",
      "[Epoch]: 1200, [Train Loss]: 0.0401, [Test Loss]: 0.0497\n",
      "[Epoch]: 1300, [Train Loss]: 0.0402, [Test Loss]: 0.0498\n",
      "Nodes: 250\n",
      "Layers: 12\n",
      "Train Loss: 0.04019569\n",
      "Test Loss: 0.049750734\n",
      "\n"
     ]
    }
   ],
   "source": [
    "#last_p = [param_grid[3]]\n",
    "for p in param_grid:\n",
    "#for p in last_p:\n",
    "    net = Net(pd_train.shape[1], p.nodes, p.layers)\n",
    "    opt = optim.Adam(net.parameters(), lr=0.0001, betas=(0.9, 0.999))\n",
    "    criterion = nn.L1Loss()\n",
    "    y_pred = []\n",
    "    y_test_pred=[]\n",
    "    e_losses = []\n",
    "    test_losses = []\n",
    "    \n",
    "    for e in range(p.epochs):\n",
    "        e_loss, y_pred = train_epoch(net, opt, criterion) \n",
    "        #e_losses.append(loss)\n",
    "        if e%100==0:\n",
    "            y_pred_test = net(X_test)[:,0]\n",
    "            test_loss = criterion(y_pred_test, Y_test).float().detach().numpy()\n",
    "            test_losses.append(test_loss)\n",
    "            print(\"[Epoch]: %i, [Train Loss]: %.4f, [Test Loss]: %.4f\" % (e, e_loss, test_loss))\n",
    "            if e>300 and test_losses[-2]-test_losses[-1]<10e-8: \n",
    "                p.epochs=e\n",
    "                break\n",
    "    \n",
    "    p.net = net\n",
    "    p.train_loss = e_loss.float().detach().numpy()\n",
    "    p.test_loss = test_loss\n",
    "    p.y_pred_test = y_pred_test.float().detach().numpy()\n",
    "    p.y_pred = y_pred.float().detach().numpy()\n",
    "    #p.auc = sk.metrics.roc_auc_score(y_train,y_predicted)\n",
    "    \n",
    "    print(\"Nodes: \"+str(p.nodes))\n",
    "    print(\"Layers: \"+str(p.layers))\n",
    "    print(\"Train Loss: \"+str(p.train_loss))\n",
    "    print(\"Test Loss: \"+str(p.test_loss))\n",
    "    print(\"\")\n",
    "    \n",
    "    del net, opt, criterion, y_pred, y_pred_test"
   ]
  },
  {
   "cell_type": "code",
   "execution_count": 21,
   "metadata": {},
   "outputs": [
    {
     "data": {
      "text/plain": [
       "array([0.12140456, 0.0939497 , 0.09836164, ..., 0.05742204, 0.07746226,\n",
       "       0.02158123], dtype=float32)"
      ]
     },
     "execution_count": 21,
     "metadata": {},
     "output_type": "execute_result"
    }
   ],
   "source": [
    "param_grid[2].y_pred"
   ]
  },
  {
   "cell_type": "code",
   "execution_count": 59,
   "metadata": {
    "scrolled": true
   },
   "outputs": [
    {
     "data": {
      "image/png": "[encoded data removed]",
      "text/plain": [
       "<Figure size 432x288 with 1 Axes>"
      ]
     },
     "metadata": {},
     "output_type": "display_data"
    }
   ],
   "source": [
    "plt.hist(Y, 20, log=False, range=(0, 0.8), alpha=0.5, label='truth')\n",
    "plt.hist(param_grid[5].y_pred, 20, log=False, range=(0, 0.8), alpha=0.5, label='train')\n",
    "plt.legend(loc='upper right')\n",
    "plt.show()"
   ]
  },
  {
   "cell_type": "code",
   "execution_count": 58,
   "metadata": {},
   "outputs": [
    {
     "data": {
      "image/png": "[encoded data removed]",
      "text/plain": [
       "<Figure size 432x288 with 1 Axes>"
      ]
     },
     "metadata": {},
     "output_type": "display_data"
    }
   ],
   "source": [
    "plt.hist(Y_test, 20, log=False, range=(0, 0.8), alpha=0.5, label='truth')\n",
    "plt.hist(param_grid[2].y_pred_test,20, log=False, range=(0, 0.8), alpha=0.5, label='test')\n",
    "plt.legend(loc='upper right')\n",
    "plt.show()"
   ]
  },
  {
   "cell_type": "code",
   "execution_count": 60,
   "metadata": {},
   "outputs": [
    {
     "data": {
      "image/png": "[encoded data removed]",
      "text/plain": [
       "<Figure size 432x288 with 1 Axes>"
      ]
     },
     "metadata": {},
     "output_type": "display_data"
    }
   ],
   "source": [
    "#y_predicted = y_pred.float().detach().numpy()\n",
    "cutoff = [0.15, 0.2, 0.25]\n",
    "\n",
    "plt.figure()\n",
    "for c in cutoff:\n",
    "    yTrain = np.where(Y > c, 1, 0)\n",
    "    ypTrain = param_grid[5].y_pred\n",
    "\n",
    "    auc = sk.metrics.roc_auc_score(yTrain,ypTrain)\n",
    "    fpr, tpr, _ = sk.metrics.roc_curve(yTrain,ypTrain)\n",
    "\n",
    "    plt.plot(fpr, tpr, label='AUC = %.3f, cutoff = %0.2f' %(auc, c))\n",
    "\n",
    "plt.title(\"pyTorch Train ROC, layers=%i, nodes=%i\" %(param_grid[5].layers, param_grid[5].nodes))\n",
    "plt.legend(loc='lower right')    \n",
    "plt.show()"
   ]
  },
  {
   "cell_type": "code",
   "execution_count": 61,
   "metadata": {},
   "outputs": [
    {
     "data": {
      "image/png": "[encoded data removed]",
      "text/plain": [
       "<Figure size 432x288 with 1 Axes>"
      ]
     },
     "metadata": {},
     "output_type": "display_data"
    }
   ],
   "source": [
    "#y_predicted = y_pred.float().detach().numpy()\n",
    "cutoff = [0.15, 0.2, 0.25]\n",
    "\n",
    "plt.figure()\n",
    "for c in cutoff:\n",
    "    yTest = np.where(Y_test > c, 1, 0)\n",
    "    ypTest = param_grid[8].y_pred_test\n",
    "\n",
    "    auc = sk.metrics.roc_auc_score(yTest,ypTest)\n",
    "    fpr, tpr, _ = sk.metrics.roc_curve(yTest,ypTest)\n",
    "\n",
    "    plt.plot(fpr, tpr, label='AUC = %.3f, cutoff = %0.2f' %(auc, c))\n",
    "\n",
    "plt.title(\"pyTorch Test ROC, layers=%i, nodes=%i\" %(param_grid[8].layers, param_grid[8].nodes))\n",
    "plt.legend(loc='lower right')    \n",
    "plt.show()"
   ]
  },
  {
   "cell_type": "markdown",
   "metadata": {},
   "source": [
    "Predict on test sample"
   ]
  },
  {
   "cell_type": "code",
   "execution_count": null,
   "metadata": {},
   "outputs": [],
   "source": [
    "x_test, y_test = Variable(x_test, volatile=True), Variable(y_test)"
   ]
  },
  {
   "cell_type": "code",
   "execution_count": null,
   "metadata": {},
   "outputs": [],
   "source": [
    "#y_pred_test = y_pred_test.detach().numpy()\n",
    "auc = sk.metrics.roc_auc_score(y_test,y_pred_test)\n",
    "\n",
    "roc_array = sk.metrics.roc_curve(y_test,y_pred_test)\n",
    "\n",
    "plt.figure()\n",
    "plt.plot(roc_array[1], label='AUC = '+str(auc))\n",
    "plt.title(\"pytorch test ROC\")\n",
    "plt.legend(loc='lower right')"
   ]
  },
  {
   "cell_type": "code",
   "execution_count": 83,
   "metadata": {},
   "outputs": [
    {
     "name": "stdout",
     "output_type": "stream",
     "text": [
      "[[array(0.04884519, dtype=float32), array(0.04902332, dtype=float32), array(0.0491308, dtype=float32), array(0.04975073, dtype=float32)], [array(0.0502816, dtype=float32), array(0.05093752, dtype=float32), array(0.05059234, dtype=float32), array(0.05218538, dtype=float32)], [array(0.04891586, dtype=float32), array(0.04998652, dtype=float32), array(0.04955451, dtype=float32), array(0.04973552, dtype=float32)]]\n"
     ]
    },
    {
     "data": {
      "image/png": "[encoded data removed]",
      "text/plain": [
       "<Figure size 432x288 with 2 Axes>"
      ]
     },
     "metadata": {},
     "output_type": "display_data"
    }
   ],
   "source": [
    "def extents(f):\n",
    "    delta=f[1]-f[0]\n",
    "    return [f[0]-delta/2, f[-1]+delta/2]\n",
    "\n",
    "l_list = [x.layers for x in param_grid]\n",
    "l_list = list(set(l_list))\n",
    "n_list = [x.nodes for x in param_grid]\n",
    "n_list = list(set(n_list))\n",
    "\n",
    "t_list = []\n",
    "for n in n_list:\n",
    "    tmp_list = []\n",
    "    for p in param_grid:\n",
    "        if p.nodes==n:\n",
    "            tmp_list.append(p.test_loss)\n",
    "    t_list.append(tmp_list)\n",
    "\n",
    "print(t_list)\n",
    "plt.imshow(t_list)\n",
    "plt.colorbar()\n",
    "plt.show()"
   ]
  },
  {
   "cell_type": "code",
   "execution_count": 94,
   "metadata": {},
   "outputs": [
    {
     "data": {
      "image/png": "[encoded data removed]",
      "text/plain": [
       "<Figure size 432x288 with 1 Axes>"
      ]
     },
     "metadata": {},
     "output_type": "display_data"
    }
   ],
   "source": [
    "l_vals,n_vals,t_vals = zip(*[(i.layers, i.nodes, i.test_loss) for i in param_grid])\n",
    "plt.scatter(l_vals,n_vals)#, c=t_vals)\n",
    "#plt.colorbar()\n",
    "for i, txt in enumerate(t_vals):\n",
    "    plt.annotate(\"%0.4f\" %(txt), (l_vals[i],n_vals[i]))"
   ]
  },
  {
   "cell_type": "code",
   "execution_count": null,
   "metadata": {},
   "outputs": [],
   "source": []
  }
 ],
 "metadata": {
  "kernelspec": {
   "display_name": "Python 3",
   "language": "python",
   "name": "python3"
  },
  "language_info": {
   "codemirror_mode": {
    "name": "ipython",
    "version": 3
   },
   "file_extension": ".py",
   "mimetype": "text/x-python",
   "name": "python",
   "nbconvert_exporter": "python",
   "pygments_lexer": "ipython3",
   "version": "3.6.3"
  }
 },
 "nbformat": 4,
 "nbformat_minor": 2
}
