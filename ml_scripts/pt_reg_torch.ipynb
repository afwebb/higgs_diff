{
 "cells": [
  {
   "cell_type": "code",
   "execution_count": 1,
   "metadata": {},
   "outputs": [
    {
     "name": "stderr",
     "output_type": "stream",
     "text": [
      "/usr/lib64/python3.6/importlib/_bootstrap.py:219: RuntimeWarning: numpy.dtype size changed, may indicate binary incompatibility. Expected 96, got 88\n",
      "  return f(*args, **kwds)\n",
      "/usr/lib64/python3.6/importlib/_bootstrap.py:219: RuntimeWarning: numpy.dtype size changed, may indicate binary incompatibility. Expected 96, got 88\n",
      "  return f(*args, **kwds)\n"
     ]
    }
   ],
   "source": [
    "import pandas as pd\n",
    "import numpy as np\n",
    "import sklearn\n",
    "import sklearn as sk\n",
    "from sklearn.model_selection import train_test_split\n",
    "import torch\n",
    "import math\n",
    "import sys\n",
    "import os\n",
    "from torch import nn, optim\n",
    "import torch.nn.functional as F\n",
    "from torch.autograd import Variable\n",
    "import torch.optim as optim\n",
    "\n",
    "import matplotlib.pyplot as plt\n",
    "%matplotlib inline"
   ]
  },
  {
   "cell_type": "code",
   "execution_count": 2,
   "metadata": {},
   "outputs": [],
   "source": [
    "device = torch.device(\"cuda:0\")"
   ]
  },
  {
   "cell_type": "code",
   "execution_count": 3,
   "metadata": {},
   "outputs": [],
   "source": [
    "inDF = pd.read_csv('../inputData/87_4j.csv')\n",
    "#inDF.loc[ inDF['higgs_pt'] <= 250000, 'higgs_pt'] = 0\n",
    "#inDF.loc[ inDF['higgs_pt'] > 250000, 'higgs_pt'] = 1\n",
    "pd_train, pd_test = train_test_split(inDF, test_size=0.3)"
   ]
  },
  {
   "cell_type": "code",
   "execution_count": 4,
   "metadata": {},
   "outputs": [],
   "source": [
    "y_test = pd_test['higgs_pt']\n",
    "y_train = pd_train['higgs_pt']\n",
    "pd_train = pd_train.drop(['higgs_pt'],axis=1)                                                                                                         \n",
    "pd_test = pd_test.drop(['higgs_pt'],axis=1) "
   ]
  },
  {
   "cell_type": "code",
   "execution_count": 5,
   "metadata": {},
   "outputs": [],
   "source": [
    "#Convert data to tensors\n",
    "x_train = torch.tensor(pd_train.values, dtype=torch.float32)\n",
    "x_test = torch.tensor(pd_test.values, dtype=torch.float32)\n",
    "y_train = torch.FloatTensor(y_train.values)\n",
    "y_test = torch.FloatTensor(y_test.values)"
   ]
  },
  {
   "cell_type": "code",
   "execution_count": 6,
   "metadata": {},
   "outputs": [],
   "source": [
    "X = x_train\n",
    "Y = y_train\n",
    "\n",
    "X_test = x_test\n",
    "Y_test = y_test"
   ]
  },
  {
   "cell_type": "code",
   "execution_count": 7,
   "metadata": {},
   "outputs": [],
   "source": [
    "def normalize(x):\n",
    "    x_normed = x / x.max(0, keepdim=True)[0]\n",
    "    return x_normed"
   ]
  },
  {
   "cell_type": "code",
   "execution_count": 8,
   "metadata": {},
   "outputs": [],
   "source": [
    "X = normalize(X)\n",
    "Y = normalize(Y)\n",
    "\n",
    "X_test = normalize(X_test)\n",
    "Y_test = normalize(Y_test)"
   ]
  },
  {
   "cell_type": "code",
   "execution_count": 9,
   "metadata": {},
   "outputs": [],
   "source": [
    "class OldNet(nn.Module):\n",
    "    \n",
    "    def __init__(self):\n",
    "        super().__init__()\n",
    "        self.fc1 = nn.Linear(50, 50)\n",
    "        self.relu1 = nn.ReLU()\n",
    "        self.dout = nn.Dropout(0.2)\n",
    "        self.fc2 = nn.Linear(50, 100)\n",
    "        self.prelu = nn.PReLU(1)\n",
    "        self.out = nn.Linear(100, 1)\n",
    "        self.out_act = nn.Sigmoid()\n",
    "        \n",
    "    def forward(self, input_):\n",
    "        a1 = self.fc1(input_)\n",
    "        h1 = self.relu1(a1)\n",
    "        dout = self.dout(h1)\n",
    "        a2 = self.fc2(dout)\n",
    "        h2 = self.prelu(a2)\n",
    "        a3 = self.out(h2)\n",
    "        y = self.out_act(a3)\n",
    "        return y\n",
    "    \n",
    "oldNet = OldNet()\n",
    "#opt = optim.Adam(net.parameters(), lr=0.001, betas=(0.9, 0.999))\n",
    "criterion = nn.BCELoss()"
   ]
  },
  {
   "cell_type": "code",
   "execution_count": 10,
   "metadata": {},
   "outputs": [],
   "source": [
    "class Net(nn.Module):\n",
    "    \n",
    "    def __init__(self, D_in, nodes, layers):\n",
    "        self.layers = layers\n",
    "        super().__init__()\n",
    "        self.fc1 = nn.Linear(D_in, nodes)\n",
    "        self.relu1 = nn.ReLU()\n",
    "        self.dout = nn.Dropout(0.2)\n",
    "        #self.fc2 = nn.Linear(50, 100)\n",
    "        self.fc = nn.Linear(nodes, nodes)\n",
    "        self.prelu = nn.PReLU(1)\n",
    "        self.out = nn.Linear(nodes, 1)\n",
    "        self.out_act = nn.Sigmoid()\n",
    "        \n",
    "    def forward(self, input_):\n",
    "        h1 = self.dout(self.relu1(self.fc1(input_)))\n",
    "        for i in range(self.layers):\n",
    "            h1 = self.dout(self.relu1(self.fc(h1)))\n",
    "        a1 = self.out(h1)\n",
    "        y = self.out_act(a1)\n",
    "        return y"
   ]
  },
  {
   "cell_type": "code",
   "execution_count": 11,
   "metadata": {},
   "outputs": [],
   "source": [
    "\n",
    "def train_epoch(model, opt, criterion, batch_size=10000):\n",
    "    model.train()\n",
    "    losses = []\n",
    "\n",
    "    opt.zero_grad()\n",
    "    # (1) Forward\n",
    "    y_hat = net(X)\n",
    "    # (2) Compute diff\n",
    "    loss = criterion(y_hat[:,0], Y)\n",
    "    # (3) Compute gradients\n",
    "    loss.backward()\n",
    "    # (4) update weights\n",
    "    opt.step()        \n",
    "    losses.append(loss.data.numpy())\n",
    "    \n",
    "    return loss, y_hat[:,0]"
   ]
  },
  {
   "cell_type": "code",
   "execution_count": 12,
   "metadata": {},
   "outputs": [],
   "source": [
    "class param:\n",
    "    def __init__(self, epochs, layers, nodes, auc = 0, loss = 1):\n",
    "        self.epochs = epochs\n",
    "        self.layers = layers\n",
    "        self.nodes = nodes\n",
    "        self.auc = auc\n",
    "        self.train_loss = None\n",
    "        self.test_loss = None\n",
    "        self.y_pred = None\n",
    "        self.y_pred_test = None\n",
    "        self.net = None\n",
    "    "
   ]
  },
  {
   "cell_type": "code",
   "execution_count": 13,
   "metadata": {},
   "outputs": [],
   "source": [
    "num_epochs = [2500]\n",
    "nLayers = [5, 8, 12, 16]\n",
    "nNodes = [50, 100, 200, 300]\n",
    "\n",
    "param_grid = []\n",
    "for ep in num_epochs:\n",
    "    for la in nLayers:\n",
    "        for node in nNodes:\n",
    "            param_grid.append(param(ep, la, node))"
   ]
  },
  {
   "cell_type": "code",
   "execution_count": null,
   "metadata": {},
   "outputs": [],
   "source": [
    "y_pred_scaled = (y_predicted-y_predicted.min())/(y_predicted.max()-y_predicted.min())\n",
    "y_pred_scaled"
   ]
  },
  {
   "cell_type": "code",
   "execution_count": 14,
   "metadata": {},
   "outputs": [
    {
     "name": "stdout",
     "output_type": "stream",
     "text": [
      "[Epoch]: 0, [Train Loss]: 0.4012, [Test Loss]: 0.3757\n",
      "[Epoch]: 100, [Train Loss]: 0.0661, [Test Loss]: 0.0887\n",
      "[Epoch]: 200, [Train Loss]: 0.0500, [Test Loss]: 0.0663\n",
      "[Epoch]: 300, [Train Loss]: 0.0491, [Test Loss]: 0.0654\n",
      "[Epoch]: 400, [Train Loss]: 0.0480, [Test Loss]: 0.0641\n",
      "[Epoch]: 500, [Train Loss]: 0.0465, [Test Loss]: 0.0620\n",
      "[Epoch]: 600, [Train Loss]: 0.0453, [Test Loss]: 0.0600\n",
      "[Epoch]: 700, [Train Loss]: 0.0443, [Test Loss]: 0.0583\n",
      "[Epoch]: 800, [Train Loss]: 0.0431, [Test Loss]: 0.0562\n",
      "[Epoch]: 900, [Train Loss]: 0.0423, [Test Loss]: 0.0548\n",
      "[Epoch]: 1000, [Train Loss]: 0.0418, [Test Loss]: 0.0542\n",
      "[Epoch]: 1100, [Train Loss]: 0.0415, [Test Loss]: 0.0535\n",
      "[Epoch]: 1200, [Train Loss]: 0.0410, [Test Loss]: 0.0532\n",
      "[Epoch]: 1300, [Train Loss]: 0.0406, [Test Loss]: 0.0528\n",
      "[Epoch]: 1400, [Train Loss]: 0.0405, [Test Loss]: 0.0524\n",
      "[Epoch]: 1500, [Train Loss]: 0.0403, [Test Loss]: 0.0522\n",
      "[Epoch]: 1600, [Train Loss]: 0.0400, [Test Loss]: 0.0520\n",
      "[Epoch]: 1700, [Train Loss]: 0.0400, [Test Loss]: 0.0520\n",
      "[Epoch]: 1900, [Train Loss]: 0.0396, [Test Loss]: 0.0517\n",
      "[Epoch]: 2000, [Train Loss]: 0.0395, [Test Loss]: 0.0515\n",
      "[Epoch]: 2100, [Train Loss]: 0.0394, [Test Loss]: 0.0514\n",
      "[Epoch]: 2200, [Train Loss]: 0.0393, [Test Loss]: 0.0514\n",
      "Nodes: 200\n",
      "Layers: 8\n",
      "Train Loss: 0.039252065\n",
      "Test Loss: 0.051401448\n",
      "\n"
     ]
    }
   ],
   "source": [
    "last_p = [param_grid[6]]\n",
    "#for p in param_grid:\n",
    "for p in last_p:\n",
    "    net = Net(pd_train.shape[1], p.nodes, p.layers)\n",
    "    opt = optim.Adam(net.parameters(), lr=0.0001, betas=(0.9, 0.999))\n",
    "    criterion = nn.L1Loss()\n",
    "    y_pred = []\n",
    "    y_test_pred=[]\n",
    "    e_losses = []\n",
    "    test_losses = []\n",
    "    \n",
    "    for e in range(p.epochs):\n",
    "        e_loss, y_pred = train_epoch(net, opt, criterion) \n",
    "        #e_losses.append(loss)\n",
    "        if e%100==0:\n",
    "            y_pred_test = net(X_test)[:,0]\n",
    "            test_loss = criterion(y_pred_test, Y_test).float().detach().numpy()\n",
    "            test_losses.append(test_loss)\n",
    "            print(\"[Epoch]: %i, [Train Loss]: %.4f, [Test Loss]: %.4f\" % (e, e_loss, test_loss))\n",
    "            if e>300 and test_losses[-2]-test_losses[-1]<10e-8: \n",
    "                p.epochs=e\n",
    "                break\n",
    "    \n",
    "    p.net = net\n",
    "    p.train_loss = e_loss.float().detach().numpy()\n",
    "    p.test_loss = test_loss\n",
    "    p.y_pred_test = y_pred_test.float().detach().numpy()\n",
    "    p.y_pred = y_pred.float().detach().numpy()\n",
    "    #p.auc = sk.metrics.roc_auc_score(y_train,y_predicted)\n",
    "    \n",
    "    print(\"Nodes: \"+str(p.nodes))\n",
    "    print(\"Layers: \"+str(p.layers))\n",
    "    print(\"Train Loss: \"+str(p.train_loss))\n",
    "    print(\"Test Loss: \"+str(p.test_loss))\n",
    "    print(\"\")\n",
    "    \n",
    "    del net, opt, criterion, y_pred, y_pred_test"
   ]
  },
  {
   "cell_type": "code",
   "execution_count": null,
   "metadata": {},
   "outputs": [],
   "source": [
    "param_grid[2].y_pred"
   ]
  },
  {
   "cell_type": "code",
   "execution_count": 19,
   "metadata": {
    "scrolled": true
   },
   "outputs": [
    {
     "data": {
      "image/png": "[encoded data removed]",
      "text/plain": [
       "<Figure size 432x288 with 1 Axes>"
      ]
     },
     "metadata": {},
     "output_type": "display_data"
    }
   ],
   "source": [
    "y_predicted = param_grid[6].y_pred\n",
    "y_pred_scaled = (y_predicted-y_predicted.min())/(y_predicted.max()-y_predicted.min())\n",
    "plt.hist(Y, 20, log=True, range=(0, 0.8), alpha=0.5, label='truth')\n",
    "plt.hist(y_pred_scaled, 20, log=True, range=(0, 0.8), alpha=0.5, label='train')\n",
    "plt.legend(loc='upper right')\n",
    "plt.show()"
   ]
  },
  {
   "cell_type": "code",
   "execution_count": 20,
   "metadata": {},
   "outputs": [
    {
     "data": {
      "image/png": "[encoded data removed]",
      "text/plain": [
       "<Figure size 432x288 with 1 Axes>"
      ]
     },
     "metadata": {},
     "output_type": "display_data"
    }
   ],
   "source": [
    "plt.hist(Y_test, 20, log=True, range=(0, 0.8), alpha=0.5, label='truth')\n",
    "plt.hist(param_grid[6].y_pred_test,20, log=True, range=(0, 0.8), alpha=0.5, label='test')\n",
    "plt.legend(loc='upper right')\n",
    "plt.show()"
   ]
  },
  {
   "cell_type": "code",
   "execution_count": null,
   "metadata": {},
   "outputs": [],
   "source": [
    "#y_predicted = y_pred.float().detach().numpy()\n",
    "cutoff = [0.2, 0.25, 0.3]\n",
    "\n",
    "plt.figure()\n",
    "for c in cutoff:\n",
    "    yTrain = np.where(Y > c, 1, 0)\n",
    "    ypTrain = param_grid[2].y_pred\n",
    "\n",
    "    auc = sk.metrics.roc_auc_score(yTrain,ypTrain)\n",
    "    fpr, tpr = sk.metrics.roc_curve(yTrain,ypTrain)\n",
    "\n",
    "    plt.plot(fpr, tpr, label='AUC = %.3f, cutoff = %0.2f' %(auc, c))\n",
    "\n",
    "plt.title(\"pyTorch Train ROC, layers=%i, nodes=%i\" %(param_grid[2].layers, param_grid[2].nodes))\n",
    "plt.legend(loc='lower right')    \n",
    "plt.show()"
   ]
  },
  {
   "cell_type": "code",
   "execution_count": null,
   "metadata": {},
   "outputs": [],
   "source": [
    "#y_predicted = y_pred.float().detach().numpy()\n",
    "cutoff = [0.1, 0.15, 0.2, 0.3, 0.4]\n",
    "\n",
    "plt.figure()\n",
    "for c in cutoff:\n",
    "    yTest = np.where(Y_test > c, 1, 0)\n",
    "    ypTest = param_grid[2].y_pred_test\n",
    "\n",
    "    auc = sk.metrics.roc_auc_score(yTest,ypTest)\n",
    "    roc_array = sk.metrics.roc_curve(yTest,ypTest)\n",
    "\n",
    "    plt.plot(roc_array[1], label='AUC = %.3f, cutoff = %0.2f' %(auc, c))\n",
    "\n",
    "plt.title(\"pyTorch Test ROC, layers=%i, nodes=%i\" %(param_grid[2].layers, param_grid[2].nodes))\n",
    "plt.legend(loc='lower right')    \n",
    "plt.show()"
   ]
  },
  {
   "cell_type": "markdown",
   "metadata": {},
   "source": [
    "Predict on test sample"
   ]
  },
  {
   "cell_type": "code",
   "execution_count": null,
   "metadata": {},
   "outputs": [],
   "source": [
    "x_test, y_test = Variable(x_test, volatile=True), Variable(y_test)"
   ]
  },
  {
   "cell_type": "code",
   "execution_count": null,
   "metadata": {},
   "outputs": [],
   "source": [
    "#y_pred_test = y_pred_test.detach().numpy()\n",
    "auc = sk.metrics.roc_auc_score(y_test,y_pred_test)\n",
    "\n",
    "roc_array = sk.metrics.roc_curve(y_test,y_pred_test)\n",
    "\n",
    "plt.figure()\n",
    "plt.plot(roc_array[1], label='AUC = '+str(auc))\n",
    "plt.title(\"pytorch test ROC\")\n",
    "plt.legend(loc='lower right')"
   ]
  },
  {
   "cell_type": "code",
   "execution_count": null,
   "metadata": {},
   "outputs": [],
   "source": []
  }
 ],
 "metadata": {
  "kernelspec": {
   "display_name": "Python 3",
   "language": "python",
   "name": "python3"
  },
  "language_info": {
   "codemirror_mode": {
    "name": "ipython",
    "version": 3
   },
   "file_extension": ".py",
   "mimetype": "text/x-python",
   "name": "python",
   "nbconvert_exporter": "python",
   "pygments_lexer": "ipython3",
   "version": "3.6.3"
  }
 },
 "nbformat": 4,
 "nbformat_minor": 2
}
