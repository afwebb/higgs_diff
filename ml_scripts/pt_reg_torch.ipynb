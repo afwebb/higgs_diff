{
 "cells": [
  {
   "cell_type": "code",
   "execution_count": 18,
   "metadata": {},
   "outputs": [],
   "source": [
    "#import packages\n",
    "import pandas as pd\n",
    "import numpy as np\n",
    "import sklearn\n",
    "import sklearn as sk\n",
    "from sklearn.model_selection import train_test_split\n",
    "import torch\n",
    "import math\n",
    "import sys\n",
    "import os\n",
    "from torch import nn, optim\n",
    "import torch.nn.functional as F\n",
    "from torch.autograd import Variable\n",
    "import torch.optim as optim\n",
    "\n",
    "import matplotlib.pyplot as plt\n",
    "%matplotlib inline"
   ]
  },
  {
   "cell_type": "code",
   "execution_count": 19,
   "metadata": {},
   "outputs": [],
   "source": [
    "device = torch.device(\"cuda:0\")"
   ]
  },
  {
   "cell_type": "code",
   "execution_count": 20,
   "metadata": {},
   "outputs": [],
   "source": [
    "inDF = pd.read_csv('../inputData/87_4j.csv')\n",
    "#inDF.loc[ inDF['higgs_pt'] <= 250000, 'higgs_pt'] = 0\n",
    "#inDF.loc[ inDF['higgs_pt'] > 250000, 'higgs_pt'] = 1\n",
    "pd_train, pd_test = train_test_split(inDF, test_size=0.3)"
   ]
  },
  {
   "cell_type": "code",
   "execution_count": 21,
   "metadata": {},
   "outputs": [],
   "source": [
    "y_test = pd_test['higgs_pt']\n",
    "y_train = pd_train['higgs_pt']\n",
    "pd_train = pd_train.drop(['higgs_pt'],axis=1)                                                                                                         \n",
    "pd_test = pd_test.drop(['higgs_pt'],axis=1) "
   ]
  },
  {
   "cell_type": "code",
   "execution_count": 22,
   "metadata": {},
   "outputs": [],
   "source": [
    "#Convert data to tensors\n",
    "x_train = torch.tensor(pd_train.values, dtype=torch.float32)\n",
    "x_test = torch.tensor(pd_test.values, dtype=torch.float32)\n",
    "y_train = torch.FloatTensor(y_train.values)\n",
    "y_test = torch.FloatTensor(y_test.values)"
   ]
  },
  {
   "cell_type": "code",
   "execution_count": 23,
   "metadata": {},
   "outputs": [],
   "source": [
    "X = x_train\n",
    "Y = y_train"
   ]
  },
  {
   "cell_type": "code",
   "execution_count": 24,
   "metadata": {},
   "outputs": [],
   "source": [
    "def normalize(x):\n",
    "    x_normed = x / x.max(0, keepdim=True)[0]\n",
    "    return x_normed"
   ]
  },
  {
   "cell_type": "code",
   "execution_count": 25,
   "metadata": {},
   "outputs": [],
   "source": [
    "X = normalize(X)\n",
    "Y = normalize(Y)"
   ]
  },
  {
   "cell_type": "code",
   "execution_count": 26,
   "metadata": {},
   "outputs": [],
   "source": [
    "class OldNet(nn.Module):\n",
    "    \n",
    "    def __init__(self):\n",
    "        super().__init__()\n",
    "        self.fc1 = nn.Linear(50, 50)\n",
    "        self.relu1 = nn.ReLU()\n",
    "        self.dout = nn.Dropout(0.2)\n",
    "        self.fc2 = nn.Linear(50, 100)\n",
    "        self.prelu = nn.PReLU(1)\n",
    "        self.out = nn.Linear(100, 1)\n",
    "        self.out_act = nn.Sigmoid()\n",
    "        \n",
    "    def forward(self, input_):\n",
    "        a1 = self.fc1(input_)\n",
    "        h1 = self.relu1(a1)\n",
    "        dout = self.dout(h1)\n",
    "        a2 = self.fc2(dout)\n",
    "        h2 = self.prelu(a2)\n",
    "        a3 = self.out(h2)\n",
    "        y = self.out_act(a3)\n",
    "        return y\n",
    "    \n",
    "oldNet = OldNet()\n",
    "#opt = optim.Adam(net.parameters(), lr=0.001, betas=(0.9, 0.999))\n",
    "criterion = nn.BCELoss()"
   ]
  },
  {
   "cell_type": "code",
   "execution_count": 27,
   "metadata": {},
   "outputs": [],
   "source": [
    "class Net(nn.Module):\n",
    "    \n",
    "    def __init__(self, D_in, nodes, layers):\n",
    "        self.layers = layers\n",
    "        super().__init__()\n",
    "        self.fc1 = nn.Linear(D_in, nodes)\n",
    "        self.relu1 = nn.ReLU()\n",
    "        self.dout = nn.Dropout(0.2)\n",
    "        #self.fc2 = nn.Linear(50, 100)\n",
    "        self.fc = nn.Linear(nodes, nodes)\n",
    "        self.prelu = nn.PReLU(1)\n",
    "        self.out = nn.Linear(nodes, 1)\n",
    "        self.out_act = nn.Sigmoid()\n",
    "        \n",
    "    def forward(self, input_):\n",
    "        h1 = self.dout(self.relu1(self.fc1(input_)))\n",
    "        for i in range(self.layers):\n",
    "            h1 = self.dout(self.relu1(self.fc(h1)))\n",
    "        a1 = self.out(h1)\n",
    "        y = self.out_act(a1)\n",
    "        return y"
   ]
  },
  {
   "cell_type": "code",
   "execution_count": 28,
   "metadata": {},
   "outputs": [],
   "source": [
    "\n",
    "def train_epoch(model, opt, criterion, batch_size=10000):\n",
    "    model.train()\n",
    "    losses = []\n",
    "\n",
    "    opt.zero_grad()\n",
    "    # (1) Forward\n",
    "    y_hat = net(X)\n",
    "    # (2) Compute diff\n",
    "    loss = criterion(y_hat[:,0], Y)\n",
    "    # (3) Compute gradients\n",
    "    loss.backward()\n",
    "    # (4) update weights\n",
    "    opt.step()        \n",
    "    losses.append(loss.data.numpy())\n",
    "    \n",
    "    return loss, y_hat[:,0]"
   ]
  },
  {
   "cell_type": "code",
   "execution_count": 29,
   "metadata": {},
   "outputs": [],
   "source": [
    "class param:\n",
    "    def __init__(self, epochs, layers, nodes, auc = 0, loss = 1, y_pred=[]):\n",
    "        self.epochs = epochs\n",
    "        self.layers = layers\n",
    "        self.nodes = nodes\n",
    "        self.auc = auc\n",
    "        self.loss = loss\n",
    "        self.y_pred = y_pred\n",
    "    "
   ]
  },
  {
   "cell_type": "code",
   "execution_count": 30,
   "metadata": {},
   "outputs": [],
   "source": [
    "num_epochs = [5000]\n",
    "nLayers = [5, 8, 12, 16]\n",
    "nNodes = [50, 100, 200, 300]\n",
    "\n",
    "param_grid = []\n",
    "for ep in num_epochs:\n",
    "    for la in nLayers:\n",
    "        for node in nNodes:\n",
    "            param_grid.append(param(ep, la, node))"
   ]
  },
  {
   "cell_type": "code",
   "execution_count": null,
   "metadata": {},
   "outputs": [
    {
     "name": "stdout",
     "output_type": "stream",
     "text": [
      "[EPOCH]: 0, [LOSS]: 0.359629\n",
      "[EPOCH]: 100, [LOSS]: 0.344706\n",
      "[EPOCH]: 200, [LOSS]: 0.329720\n",
      "[EPOCH]: 300, [LOSS]: 0.314017\n",
      "[EPOCH]: 400, [LOSS]: 0.293981\n",
      "[EPOCH]: 500, [LOSS]: 0.267482\n",
      "[EPOCH]: 600, [LOSS]: 0.243436\n",
      "[EPOCH]: 700, [LOSS]: 0.216696\n",
      "[EPOCH]: 800, [LOSS]: 0.166830\n",
      "[EPOCH]: 900, [LOSS]: 0.100600\n",
      "[EPOCH]: 1000, [LOSS]: 0.085088\n",
      "[EPOCH]: 1100, [LOSS]: 0.082882\n",
      "[EPOCH]: 1200, [LOSS]: 0.081608\n",
      "[EPOCH]: 1300, [LOSS]: 0.080463\n",
      "[EPOCH]: 1400, [LOSS]: 0.079612\n",
      "[EPOCH]: 1500, [LOSS]: 0.078501\n",
      "[EPOCH]: 1600, [LOSS]: 0.076930\n",
      "[EPOCH]: 1700, [LOSS]: 0.075658\n"
     ]
    }
   ],
   "source": [
    "e_losses = []\n",
    "\n",
    "net = Net(pd_train.shape[1], 8, 100)\n",
    "opt = optim.Adam(net.parameters(), lr=0.0001, betas=(0.9, 0.999))\n",
    "criterion = nn.L1Loss()\n",
    "for e in range(3000):\n",
    "    e_loss, y_pred = train_epoch(net, opt, criterion)\n",
    "    loss = e_loss.float().detach().numpy()\n",
    "    e_losses.append(loss)\n",
    "    if e%100==0:\n",
    "        print(\"[EPOCH]: %i, [LOSS]: %.6f\" % (e, loss))\n",
    "plt.plot(e_losses)\n",
    "\n",
    "print(loss)\n",
    "print()\n"
   ]
  },
  {
   "cell_type": "code",
   "execution_count": 65,
   "metadata": {
    "scrolled": false
   },
   "outputs": [
    {
     "data": {
      "text/plain": [
       "(array([41837., 12351., 18641., 11398.,  7818.,  4667.,  3326.,  1834.,\n",
       "          299.,  4498.]),\n",
       " array([0.00630996, 0.04111782, 0.07592569, 0.11073355, 0.14554141,\n",
       "        0.18034928, 0.21515714, 0.24996501, 0.28477287, 0.31958073,\n",
       "        0.3543886 ], dtype=float32),\n",
       " <a list of 10 Patch objects>)"
      ]
     },
     "execution_count": 65,
     "metadata": {},
     "output_type": "execute_result"
    },
    {
     "data": {
      "image/png": "[encoded data removed]",
      "text/plain": [
       "<Figure size 432x288 with 1 Axes>"
      ]
     },
     "metadata": {},
     "output_type": "display_data"
    }
   ],
   "source": [
    "y_predicted = y_pred.float().detach().numpy()\n",
    "plt.hist(y_predicted)"
   ]
  },
  {
   "cell_type": "code",
   "execution_count": 63,
   "metadata": {},
   "outputs": [
    {
     "data": {
      "text/plain": [
       "array([0.21403296, 0.05113822, 0.06815433, ..., 0.02137834, 0.2550437 ,\n",
       "       0.05111694], dtype=float32)"
      ]
     },
     "execution_count": 63,
     "metadata": {},
     "output_type": "execute_result"
    }
   ],
   "source": [
    "y_pred_scaled = (y_predicted-y_predicted.min())/(y_predicted.max()-y_predicted.min())\n",
    "y_pred_scaled"
   ]
  },
  {
   "cell_type": "code",
   "execution_count": 68,
   "metadata": {
    "scrolled": true
   },
   "outputs": [
    {
     "data": {
      "image/png": "[encoded data removed]",
      "text/plain": [
       "<Figure size 432x288 with 1 Axes>"
      ]
     },
     "metadata": {},
     "output_type": "display_data"
    }
   ],
   "source": [
    "plt.hist(Y, 20, log=True, range=(0, 0.8), alpha=0.5, label='truth')\n",
    "plt.hist(y_predicted, 20, log=True, range=(0, 0.8), alpha=0.5, label='predicted')\n",
    "plt.legend(loc='upper right')\n",
    "plt.show()"
   ]
  },
  {
   "cell_type": "code",
   "execution_count": 18,
   "metadata": {},
   "outputs": [
    {
     "name": "stdout",
     "output_type": "stream",
     "text": [
      "Nodes: 25\n",
      "Layers: 2\n",
      "AUC: 0.4539165089700272\n",
      "Loss: 0.07366418\n",
      "\n",
      "Nodes: 50\n",
      "Layers: 2\n",
      "AUC: 0.48963508962105895\n",
      "Loss: 0.072370686\n",
      "\n",
      "Nodes: 100\n",
      "Layers: 2\n",
      "AUC: 0.6098934450319383\n",
      "Loss: 0.06999898\n",
      "\n",
      "Nodes: 200\n",
      "Layers: 2\n",
      "AUC: 0.7784201428511963\n",
      "Loss: 0.06414894\n",
      "\n",
      "Nodes: 25\n",
      "Layers: 5\n",
      "AUC: 0.4919970803162649\n",
      "Loss: 0.074106306\n",
      "\n",
      "Nodes: 50\n",
      "Layers: 5\n",
      "AUC: 0.5815436169625047\n",
      "Loss: 0.07088808\n",
      "\n",
      "Nodes: 100\n",
      "Layers: 5\n",
      "AUC: 0.7719389338314515\n",
      "Loss: 0.063814275\n",
      "\n",
      "Nodes: 200\n",
      "Layers: 5\n",
      "AUC: 0.840376425101256\n",
      "Loss: 0.057809595\n",
      "\n",
      "Nodes: 25\n",
      "Layers: 8\n",
      "AUC: 0.50397653339345\n",
      "Loss: 0.07337108\n",
      "\n",
      "Nodes: 50\n",
      "Layers: 8\n",
      "AUC: 0.5632142106133629\n",
      "Loss: 0.071587294\n",
      "\n",
      "Nodes: 100\n",
      "Layers: 8\n",
      "AUC: 0.7918406362064436\n",
      "Loss: 0.062480405\n",
      "\n",
      "Nodes: 200\n",
      "Layers: 8\n",
      "AUC: 0.8425610916578352\n",
      "Loss: 0.05782126\n",
      "\n",
      "Nodes: 25\n",
      "Layers: 12\n",
      "AUC: 0.5258492637984732\n",
      "Loss: 0.07325665\n",
      "\n",
      "Nodes: 50\n",
      "Layers: 12\n",
      "AUC: 0.7088885435794201\n",
      "Loss: 0.06810161\n",
      "\n",
      "Nodes: 100\n",
      "Layers: 12\n",
      "AUC: 0.8071168821096663\n",
      "Loss: 0.06039844\n",
      "\n",
      "Nodes: 200\n",
      "Layers: 12\n",
      "AUC: 0.8455513636862655\n",
      "Loss: 0.05744621\n",
      "\n"
     ]
    }
   ],
   "source": [
    "for p in param_grid:\n",
    "    net = Net(pd_train.shape[1], p.nodes, p.layers)\n",
    "    opt = optim.Adam(net.parameters(), lr=0.0001, betas=(0.9, 0.999))\n",
    "    criterion = nn.L1Loss()\n",
    "    \n",
    "    for e in range(p.epochs):\n",
    "        e_loss, y_pred = train_epoch(net, opt, criterion)\n",
    "        if e%100==0:\n",
    "            print(\"[EPOCH]: %i, [LOSS]: %.6f\" % (e, loss))\n",
    "    p.loss = e_loss.float().detach().numpy()\n",
    "    y_predicted = y_pred.float().detach().numpy()\n",
    "    p.auc = sk.metrics.roc_auc_score(y_train,y_predicted)\n",
    "    \n",
    "    print(\"Nodes: \"+str(p.nodes))\n",
    "    print(\"Layers: \"+str(p.layers))\n",
    "    print(\"AUC: \"+str(p.auc))\n",
    "    print(\"Loss: \"+str(p.loss))\n",
    "    print(\"\")\n",
    "    \n",
    "    del net, opt, criterion, e_loss, y_pred"
   ]
  },
  {
   "cell_type": "code",
   "execution_count": null,
   "metadata": {},
   "outputs": [],
   "source": [
    "y_test_pred = net(x_test)\n",
    "y_test_pred"
   ]
  },
  {
   "cell_type": "code",
   "execution_count": null,
   "metadata": {},
   "outputs": [],
   "source": [
    "plt.figure()\n",
    "plt.hist2d()"
   ]
  },
  {
   "cell_type": "code",
   "execution_count": null,
   "metadata": {},
   "outputs": [],
   "source": [
    "y_predicted = y_pred.float().detach().numpy()\n",
    "auc = sk.metrics.roc_auc_score(y_train,y_predicted)\n",
    "\n",
    "roc_array = sk.metrics.roc_curve(y_train,y_predicted)\n",
    "\n",
    "plt.figure()\n",
    "plt.plot(roc_array[1], label='AUC = '+str(auc))\n",
    "plt.title(\"pytorch ROC\")\n",
    "plt.legend(loc='lower right')"
   ]
  },
  {
   "cell_type": "markdown",
   "metadata": {},
   "source": [
    "Predict on test sample"
   ]
  },
  {
   "cell_type": "code",
   "execution_count": 117,
   "metadata": {},
   "outputs": [
    {
     "name": "stderr",
     "output_type": "stream",
     "text": [
      "/usr/lib/python3.6/site-packages/ipykernel_launcher.py:1: UserWarning: volatile was removed and now has no effect. Use `with torch.no_grad():` instead.\n",
      "  \"\"\"Entry point for launching an IPython kernel.\n"
     ]
    }
   ],
   "source": [
    "x_test, y_test = Variable(x_test, volatile=True), Variable(y_test)"
   ]
  },
  {
   "cell_type": "code",
   "execution_count": 176,
   "metadata": {},
   "outputs": [
    {
     "data": {
      "text/plain": [
       "<matplotlib.legend.Legend at 0x7fd86cf45be0>"
      ]
     },
     "execution_count": 176,
     "metadata": {},
     "output_type": "execute_result"
    },
    {
     "data": {
      "image/png": "[encoded data removed]",
      "text/plain": [
       "<Figure size 432x288 with 1 Axes>"
      ]
     },
     "metadata": {},
     "output_type": "display_data"
    }
   ],
   "source": [
    "#y_pred_test = y_pred_test.detach().numpy()\n",
    "auc = sk.metrics.roc_auc_score(y_test,y_pred_test)\n",
    "\n",
    "roc_array = sk.metrics.roc_curve(y_test,y_pred_test)\n",
    "\n",
    "plt.figure()\n",
    "plt.plot(roc_array[1], label='AUC = '+str(auc))\n",
    "plt.title(\"pytorch test ROC\")\n",
    "plt.legend(loc='lower right')"
   ]
  },
  {
   "cell_type": "code",
   "execution_count": null,
   "metadata": {},
   "outputs": [],
   "source": []
  }
 ],
 "metadata": {
  "kernelspec": {
   "display_name": "Python 3",
   "language": "python",
   "name": "python3"
  }
 },
 "nbformat": 4,
 "nbformat_minor": 2
}
